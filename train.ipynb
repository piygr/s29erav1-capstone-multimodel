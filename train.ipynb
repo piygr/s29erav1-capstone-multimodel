{
 "cells": [
  {
   "cell_type": "code",
   "execution_count": null,
   "metadata": {
    "collapsed": true
   },
   "outputs": [],
   "source": [
    "from main import model_config, tokenizer, device\n",
    "from config import extra\n",
    "from dataset import get_dataloaders\n",
    "from models.multi_model import CLIPVisionToPhi\n"
   ]
  },
  {
   "cell_type": "code",
   "execution_count": null,
   "metadata": {},
   "outputs": [],
   "source": [
    "train_dl, val_dl = get_dataloaders(\"data\", tokenizer)"
   ]
  },
  {
   "cell_type": "code",
   "execution_count": null,
   "metadata": {},
   "outputs": [],
   "source": [
    "import torch.optim as optim\n",
    "import torch\n",
    "\n",
    "model = CLIPVisionToPhi(model_config)\n",
    "\n",
    "model = model.to(device)\n",
    "model.train()\n",
    "\n",
    "for param in model.phi_model.parameters():\n",
    "    if param.requires_grad:\n",
    "        print(True)\n",
    "        break\n",
    "\n",
    "optimizer = optim.Adam(model.parameters(), lr=0.001)\n",
    "\n",
    "total_epochs = 15\n",
    "\n",
    "epoch_loss = []\n",
    "\n",
    "print('---->>>>> Training logs <<<<<-----')\n",
    "for epoch in range(total_epochs):\n",
    "    data_iter = iter(train_dl)\n",
    "    train_batch = next(data_iter)\n",
    "    while train_batch:\n",
    "        optimizer.zero_grad()\n",
    "        image_feature = train_batch['image_feature']\n",
    "        caption_ids = train_batch['decoder_caption']\n",
    "        decoder_mask = train_batch['mask']\n",
    "    \n",
    "        label = train_batch['label']\n",
    "    \n",
    "        output = model(\n",
    "            image_feature=image_feature.to(device),\n",
    "            caption_ids=caption_ids.to(device),\n",
    "            label=label.to(device),\n",
    "            mask=decoder_mask.to(device)\n",
    "        )\n",
    "    \n",
    "        loss = output['loss']\n",
    "        loss.backward()\n",
    "\n",
    "        epoch_loss.append(loss.item())\n",
    "\n",
    "        optimizer.step()\n",
    "        train_batch = next(data_iter)\n",
    "        \n",
    "    b = torch.tensor(epoch_loss, dtype=torch.float32)\n",
    "    print('Epoch:', '%04d' % (epoch + 1), 'loss =', '{:.6f}'.format(b.mean()))\n",
    "    epoch_loss = []\n",
    "    \n",
    "    torch.save({\n",
    "            'epoch': epoch,\n",
    "            'model_state_dict': model.state_dict(),\n",
    "            'optimizer_state_dict': optimizer.state_dict(),\n",
    "            'loss': b.mean(),\n",
    "            }, 'checkpoints/ckpt_%s.pth' % epoch)\n",
    "    \n",
    "    torch.save({\n",
    "            'epoch': epoch,\n",
    "            'model_state_dict': model.vision_projector.state_dict(),\n",
    "            'optimizer_state_dict': optimizer.state_dict(),\n",
    "            'loss': b.mean(),\n",
    "            }, 'checkpoints/vp_ckpt_%s.pth' % epoch)\n",
    "\n"
   ]
  },
  {
   "cell_type": "code",
   "execution_count": null,
   "metadata": {},
   "outputs": [],
   "source": [
    "import pytorch_lightning as pl\n",
    "trainer = pl.Trainer(\n",
    "            max_epochs=extra['num_epochs'],\n",
    "            accelerator='gpu'\n",
    "        )\n"
   ]
  },
  {
   "cell_type": "code",
   "execution_count": null,
   "metadata": {},
   "outputs": [],
   "source": [
    "trainer.fit(model, train_dl, val_dl)"
   ]
  }
 ],
 "metadata": {
  "kernelspec": {
   "display_name": "Python 2",
   "language": "python",
   "name": "python2"
  },
  "language_info": {
   "codemirror_mode": {
    "name": "ipython",
    "version": 2
   },
   "file_extension": ".py",
   "mimetype": "text/x-python",
   "name": "python",
   "nbconvert_exporter": "python",
   "pygments_lexer": "ipython2",
   "version": "2.7.6"
  }
 },
 "nbformat": 4,
 "nbformat_minor": 0
}
